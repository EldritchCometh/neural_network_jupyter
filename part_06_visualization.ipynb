{
 "cells": [
  {
   "cell_type": "code",
   "execution_count": null,
   "id": "43281db3-510b-469b-b0ee-a84ae4b342cf",
   "metadata": {},
   "outputs": [],
   "source": [
    "%%capture\n",
    "%run part_05_training_and_metrics.ipynb\n",
    "\n",
    "# uncomment subsequent if needed\n",
    "#!pip install matplotlib\n",
    "\n",
    "import matplotlib.pyplot as plt"
   ]
  },
  {
   "cell_type": "markdown",
   "id": "3198349d-025b-4a85-9588-344c1bda21e2",
   "metadata": {},
   "source": [
    "# **Data Visualization**"
   ]
  },
  {
   "cell_type": "code",
   "execution_count": null,
   "id": "09920377-053b-4c59-9208-4f55d0a7fd50",
   "metadata": {},
   "outputs": [],
   "source": [
    "def plot(data=None, function=None):\n",
    "    plt.figure(figsize=(8, 6))\n",
    "    if data:\n",
    "        xs, ys = zip(*data)\n",
    "        plt.scatter(xs, ys, color=\"blue\", label=\"Data\")\n",
    "    if function:\n",
    "        f = function\n",
    "        xs = [[x / 200.0] for x in range(0, 1000)]\n",
    "        ys = [f(x) for x in xs]\n",
    "        plt.plot(xs, ys, color='green', lw=4, label=fr'$f(x)$')\n",
    "    plt.axis([0, 5, 0, 5])\n",
    "    plt.xlabel(r'$x$')\n",
    "    plt.ylabel(r'$f(x)_i$')\n",
    "    plt.legend(loc=\"upper left\")"
   ]
  },
  {
   "cell_type": "code",
   "execution_count": null,
   "id": "fa50ac33-fbbf-405d-a726-453f2414926b",
   "metadata": {},
   "outputs": [],
   "source": [
    "data = [[[2], [1]], [[1],[2]], [[4], [2]], [[3], [1]]]\n",
    "function = lambda x: [1 + (2.5 * (x[0] - 2.5) ** 2 / 6)]\n",
    "plot(data, function)"
   ]
  },
  {
   "cell_type": "markdown",
   "id": "7c60af98-26ba-4b15-bb67-5e2d3d33c21a",
   "metadata": {},
   "source": [
    "# **Training and Visualizing the Results**"
   ]
  },
  {
   "cell_type": "code",
   "execution_count": null,
   "id": "299c9664-5e08-4abd-9866-e82f42f7eb4c",
   "metadata": {},
   "outputs": [],
   "source": [
    "data = [[[0.5], [0.5]], [[0.8], [1.5]], [[1.0], [2.4]], [[1.3], [3.1]],\n",
    "        [[1.6], [3.6]], [[1.8], [4.1]], [[2.1], [4.4]], [[2.4], [4.5]],\n",
    "        [[2.6], [4.5]], [[2.9], [4.4]], [[3.2], [4.1]], [[3.4], [3.6]],\n",
    "        [[3.7], [3.1]], [[4.0], [2.4]], [[4.2], [1.5]], [[4.5], [0.5]]]\n",
    "shape = [1, 8, 8, 1]"
   ]
  },
  {
   "cell_type": "code",
   "execution_count": null,
   "id": "8687df64-f8f9-4ae7-a02f-c09e5b216420",
   "metadata": {},
   "outputs": [],
   "source": [
    "neural_network = NeuralNetwork(shape)\n",
    "print(f'MSE before training: {neural_network.evaluate_error(data)}')\n",
    "print(f'Accuracy before training: {neural_network.evaluate_accuracy(data)}')\n",
    "plot(data, neural_network.predict)"
   ]
  },
  {
   "cell_type": "code",
   "execution_count": null,
   "id": "00e8688f-2f78-4022-95ff-69c96e0f05e2",
   "metadata": {},
   "outputs": [],
   "source": [
    "neural_network.train(data, 1000, 0.01)\n",
    "print(f'MSE after training: {neural_network.evaluate_error(data)}')\n",
    "print(f'Accuracy after training: {neural_network.evaluate_accuracy(data)}')\n",
    "plot(data, neural_network.predict)"
   ]
  }
 ],
 "metadata": {
  "kernelspec": {
   "display_name": "Python 3 (ipykernel)",
   "language": "python",
   "name": "python3"
  },
  "language_info": {
   "codemirror_mode": {
    "name": "ipython",
    "version": 3
   },
   "file_extension": ".py",
   "mimetype": "text/x-python",
   "name": "python",
   "nbconvert_exporter": "python",
   "pygments_lexer": "ipython3",
   "version": "3.11.2"
  }
 },
 "nbformat": 4,
 "nbformat_minor": 5
}
