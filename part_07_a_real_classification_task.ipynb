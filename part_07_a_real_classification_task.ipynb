{
 "cells": [
  {
   "cell_type": "code",
   "execution_count": 1,
   "id": "eb1053b5-e5a0-4be3-9245-39a7f34ab232",
   "metadata": {},
   "outputs": [],
   "source": [
    "%%capture\n",
    "%run part_06_visualization.ipynb\n",
    "\n",
    "# uncomment subsequent if needed\n",
    "#!pip install scikit-learn\n",
    "\n",
    "from sklearn.datasets import load_digits"
   ]
  },
  {
   "cell_type": "markdown",
   "id": "eda2706b-4cb3-4a46-a63c-4fd1610ef787",
   "metadata": {},
   "source": [
    "# **Load and Prep the Data**"
   ]
  },
  {
   "cell_type": "code",
   "execution_count": 2,
   "id": "7c7ff43a-e1a2-497a-b4c5-bf56a3d3c7ec",
   "metadata": {},
   "outputs": [],
   "source": [
    "digits = load_digits()\n",
    "features, labels = digits.data.tolist(), digits.target.tolist()\n",
    "targets = [[float(i == t) for i in range(10)] for t in labels]\n",
    "split_idx = int(len(features) * 0.8)\n",
    "t_features, v_features = features[:split_idx], features[split_idx:]\n",
    "t_targets, v_targets = targets[:split_idx], targets[split_idx:]\n",
    "t_labels, v_labels =  labels[:split_idx], labels[split_idx:]"
   ]
  },
  {
   "cell_type": "markdown",
   "id": "fa66e6df-2e7d-4ca4-a3a9-8120f60378b4",
   "metadata": {},
   "source": [
    "# **Explore and Visaulize the Data**"
   ]
  },
  {
   "cell_type": "code",
   "execution_count": 3,
   "id": "ada4d855-8ac5-4d5a-b291-ae11d5757ba5",
   "metadata": {},
   "outputs": [],
   "source": [
    "def display_digit(sample):\n",
    "    reshape_8x8 = lambda xs: [xs[i:i+8] for i in range(0, len(xs), 8)]\n",
    "    sample_image = reshape_8x8(sample)\n",
    "    plt.figure(figsize=(3, 3))\n",
    "    plt.imshow(sample_image, cmap=plt.cm.gray_r, interpolation='nearest')\n",
    "    plt.axis('off')\n",
    "    plt.show()"
   ]
  },
  {
   "cell_type": "code",
   "execution_count": 4,
   "id": "bcf22bc9-ac22-4593-aafd-ccd2e030cd81",
   "metadata": {},
   "outputs": [
    {
     "data": {
      "image/png": "[encoded data removed]",
      "text/plain": [
       "<Figure size 300x300 with 1 Axes>"
      ]
     },
     "metadata": {},
     "output_type": "display_data"
    },
    {
     "name": "stdout",
     "output_type": "stream",
     "text": [
      "\n",
      "Label: 1\n",
      "Target: [0.0, 1.0, 0.0, 0.0, 0.0, 0.0, 0.0, 0.0, 0.0, 0.0]\n",
      "Raw Feature Data:\n",
      "[0.0, 0.0, 10.0, 12.0, 0.0, 0.0, 0.0, 0.0, 0.0, 0.0, 8.0, 16.0, 1.0, 0.0, 0.0, 0.0, 0.0, 0.0, 9.0, 16.0, 1.0, 0.0, 0.0, 0.0, 0.0, 0.0, 12.0, 16.0, 5.0, 0.0, 0.0, 0.0, 0.0, 0.0, 13.0, 16.0, 10.0, 0.0, 0.0, 0.0, 0.0, 0.0, 1.0, 10.0, 15.0, 0.0, 0.0, 0.0, 0.0, 0.0, 7.0, 12.0, 16.0, 12.0, 12.0, 4.0, 0.0, 0.0, 7.0, 16.0, 16.0, 16.0, 16.0, 11.0]\n"
     ]
    }
   ],
   "source": [
    "i = random.randint(0, len(features)-1)\n",
    "display_digit(features[i])\n",
    "print(f'\\nLabel: {labels[i]}')\n",
    "print(f'Target: {targets[i]}')\n",
    "print(f'Raw Feature Data:\\n{features[i]}')"
   ]
  },
  {
   "cell_type": "markdown",
   "id": "1d7bb8b2-9b5d-49ec-b2f4-32f5fa741ac5",
   "metadata": {},
   "source": [
    "# **Train and Evaluate**"
   ]
  },
  {
   "cell_type": "code",
   "execution_count": 5,
   "id": "49f68352-d48e-4c4a-a1b4-258c5ee7ae9c",
   "metadata": {},
   "outputs": [],
   "source": [
    "shape = [64, 8, 8, 8, 10]\n",
    "neural_network = NeuralNetwork(shape)\n",
    "t_data = [[tf, tt] for tf, tt in zip(t_features, t_targets)]\n",
    "v_data = [[vf, vt] for vf, vt in zip(v_features, v_targets)]"
   ]
  },
  {
   "cell_type": "code",
   "execution_count": 6,
   "id": "34e9c555-9338-4238-b904-1a121af6d608",
   "metadata": {},
   "outputs": [
    {
     "name": "stdout",
     "output_type": "stream",
     "text": [
      "0.09973272769866029\n",
      "0.1527777777777778\n",
      "Progress: [██████████████████████████████████████████████████] 100%\n",
      "0.020862139266601427\n",
      "0.8833333333333333\n"
     ]
    }
   ],
   "source": [
    "print(neural_network.evaluate_error(v_data))\n",
    "print(neural_network.evaluate_accuracy(v_data))\n",
    "neural_network.train(t_data, 100, 0.01)\n",
    "print(neural_network.evaluate_error(v_data))\n",
    "print(neural_network.evaluate_accuracy(v_data))"
   ]
  },
  {
   "cell_type": "code",
   "execution_count": 11,
   "id": "6071f9de-3cff-4eb8-afa0-3703a9d0d572",
   "metadata": {},
   "outputs": [
    {
     "data": {
      "image/png": "[encoded data removed]",
      "text/plain": [
       "<Figure size 300x300 with 1 Axes>"
      ]
     },
     "metadata": {},
     "output_type": "display_data"
    },
    {
     "name": "stdout",
     "output_type": "stream",
     "text": [
      "\n",
      "Label: 6\n",
      "Prediction: 6\n",
      "Target: [0.0, 0.0, 0.0, 0.0, 0.0, 0.0, 1.0, 0.0, 0.0, 0.0]\n",
      "Output: [0.0, 0.0, 0.0, 0.0, 0.0, 0.0, 1.0, 0.0, 0.1, 0.0]\n"
     ]
    }
   ],
   "source": [
    "i = random.randint(0, len(v_features)-1)\n",
    "output = neural_network.predict(v_features[i])\n",
    "display_digit(v_features[i])\n",
    "print(f'\\nLabel: {v_labels[i]}')\n",
    "print(f'Prediction: {output.index(max(output))}')\n",
    "print(f'Target: {v_targets[i]}')\n",
    "print(f'Output: {[round(x, 1) for x in output]}')"
   ]
  }
 ],
 "metadata": {
  "kernelspec": {
   "display_name": "Python 3 (ipykernel)",
   "language": "python",
   "name": "python3"
  },
  "language_info": {
   "codemirror_mode": {
    "name": "ipython",
    "version": 3
   },
   "file_extension": ".py",
   "mimetype": "text/x-python",
   "name": "python",
   "nbconvert_exporter": "python",
   "pygments_lexer": "ipython3",
   "version": "3.11.2"
  }
 },
 "nbformat": 4,
 "nbformat_minor": 5
}
