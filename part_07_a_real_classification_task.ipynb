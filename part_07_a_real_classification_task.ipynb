{
 "cells": [
  {
   "cell_type": "code",
   "execution_count": 8,
   "id": "eb1053b5-e5a0-4be3-9245-39a7f34ab232",
   "metadata": {},
   "outputs": [],
   "source": [
    "%%capture\n",
    "%run part_06_visualization.ipynb\n",
    "from sklearn.datasets import load_digits"
   ]
  },
  {
   "cell_type": "markdown",
   "id": "cf6ba2f4-560e-482a-abbf-90088c5616f7",
   "metadata": {},
   "source": [
    "# **Some Utility Functions**"
   ]
  },
  {
   "cell_type": "code",
   "execution_count": 2,
   "id": "443309db-3ded-4a37-8094-47d609b501cf",
   "metadata": {},
   "outputs": [],
   "source": [
    "def one_hot_encode(label):\n",
    "    return [1.0 if i == label else 0.0 for i in range(10)]\n",
    "\n",
    "def one_hot_decode(one_hot):\n",
    "    return one_hot.index(max(one_hot))\n",
    "\n",
    "def display_digit(sample):\n",
    "    image_format = [sample[i:i+8] for i in range(0, len(sample), 8)]\n",
    "    plt.figure(figsize=(3, 3))\n",
    "    plt.imshow(image_format, cmap=plt.cm.gray_r, interpolation='nearest')\n",
    "    plt.axis('off')\n",
    "    plt.show()"
   ]
  },
  {
   "cell_type": "markdown",
   "id": "eda2706b-4cb3-4a46-a63c-4fd1610ef787",
   "metadata": {},
   "source": [
    "# **Load and Prep the Data**"
   ]
  },
  {
   "cell_type": "code",
   "execution_count": 3,
   "id": "7c7ff43a-e1a2-497a-b4c5-bf56a3d3c7ec",
   "metadata": {},
   "outputs": [],
   "source": [
    "digits = load_digits()\n",
    "features = digits.data.tolist()\n",
    "targets = [one_hot_encode(target) for target in digits.target.tolist()]\n",
    "data = [[f, t] for f, t in zip(features, targets)]\n",
    "split_idx = int(len(features) * 0.8)\n",
    "training_data, validation_data = data[:split_idx], data[split_idx:]"
   ]
  },
  {
   "cell_type": "markdown",
   "id": "fa66e6df-2e7d-4ca4-a3a9-8120f60378b4",
   "metadata": {},
   "source": [
    "# **Explore and Visaulize the Data**"
   ]
  },
  {
   "cell_type": "code",
   "execution_count": 4,
   "id": "bcf22bc9-ac22-4593-aafd-ccd2e030cd81",
   "metadata": {},
   "outputs": [
    {
     "data": {
      "image/png": "[encoded data removed]",
      "text/plain": [
       "<Figure size 300x300 with 1 Axes>"
      ]
     },
     "metadata": {},
     "output_type": "display_data"
    },
    {
     "name": "stdout",
     "output_type": "stream",
     "text": [
      "\n",
      "Label: 5\n",
      "Target: [0.0, 0.0, 0.0, 0.0, 0.0, 1.0, 0.0, 0.0, 0.0, 0.0]\n",
      "Raw Feature Data:\n",
      "[0.0, 1.0, 13.0, 16.0, 16.0, 11.0, 1.0, 0.0, 0.0, 8.0, 16.0, 16.0, 13.0, 11.0, 1.0, 0.0, 0.0, 11.0, 13.0, 1.0, 0.0, 0.0, 0.0, 0.0, 0.0, 10.0, 13.0, 2.0, 0.0, 0.0, 0.0, 0.0, 0.0, 2.0, 14.0, 15.0, 6.0, 0.0, 0.0, 0.0, 0.0, 0.0, 0.0, 8.0, 16.0, 6.0, 0.0, 0.0, 0.0, 0.0, 6.0, 9.0, 15.0, 9.0, 0.0, 0.0, 0.0, 0.0, 13.0, 16.0, 15.0, 3.0, 0.0, 0.0]\n"
     ]
    }
   ],
   "source": [
    "i = random.randint(0, len(data)-1)\n",
    "display_digit(data[i][0])\n",
    "print(f'\\nLabel: {one_hot_decode(data[i][1])}')\n",
    "print(f'Target: {data[i][1]}')\n",
    "print(f'Raw Feature Data:\\n{data[i][0]}')"
   ]
  },
  {
   "cell_type": "markdown",
   "id": "1d7bb8b2-9b5d-49ec-b2f4-32f5fa741ac5",
   "metadata": {},
   "source": [
    "# **Train and Evaluate**"
   ]
  },
  {
   "cell_type": "code",
   "execution_count": 5,
   "id": "49f68352-d48e-4c4a-a1b4-258c5ee7ae9c",
   "metadata": {},
   "outputs": [],
   "source": [
    "shape = [64, 10, 10, 10, 10]\n",
    "model = construct_model(shape)"
   ]
  },
  {
   "cell_type": "code",
   "execution_count": 6,
   "id": "34e9c555-9338-4238-b904-1a121af6d608",
   "metadata": {},
   "outputs": [
    {
     "name": "stdout",
     "output_type": "stream",
     "text": [
      "MSE before training: 0.09405186780783154\n",
      "Accuracy before training: 0.05555555555555555\n",
      "Progress: [██████████████████████████████████████████████████] 100%\n",
      "MSE after training: 0.014508484951320086\n",
      "Accuracy after training: 0.9166666666666666\n"
     ]
    }
   ],
   "source": [
    "print(f'MSE before training: {evaluate_error(model, validation_data)}')\n",
    "print(f'Accuracy before training: {evaluate_accuracy(model, validation_data)}')\n",
    "train_model(model, training_data, 100, 0.01)\n",
    "print(f'MSE after training: {evaluate_error(model, validation_data)}')\n",
    "print(f'Accuracy after training: {evaluate_accuracy(model, validation_data)}')"
   ]
  },
  {
   "cell_type": "code",
   "execution_count": 7,
   "id": "6071f9de-3cff-4eb8-afa0-3703a9d0d572",
   "metadata": {},
   "outputs": [
    {
     "data": {
      "image/png": "[encoded data removed]",
      "text/plain": [
       "<Figure size 300x300 with 1 Axes>"
      ]
     },
     "metadata": {},
     "output_type": "display_data"
    },
    {
     "name": "stdout",
     "output_type": "stream",
     "text": [
      "\n",
      "Label: 8\n",
      "Prediction: 8\n",
      "Target: [0.0, 0.0, 0.0, 0.0, 0.0, 0.0, 0.0, 0.0, 1.0, 0.0]\n",
      "Output: [0.0, 0.0, 0.0, 0.0, 0.0, 0.0, 0.0, 0.0, 0.9921276024678541, 0.0]\n"
     ]
    }
   ],
   "source": [
    "i = random.randint(0, len(validation_data)-1)\n",
    "output = forward(model, validation_data[i][0])\n",
    "display_digit(validation_data[i][0])\n",
    "print(f'\\nLabel: {one_hot_decode(validation_data[i][1])}')\n",
    "print(f'Prediction: {one_hot_decode(output)}')\n",
    "print(f'Target: {validation_data[i][1]}')\n",
    "print(f'Output: {output}')"
   ]
  }
 ],
 "metadata": {
  "kernelspec": {
   "display_name": "Python 3 (ipykernel)",
   "language": "python",
   "name": "python3"
  },
  "language_info": {
   "codemirror_mode": {
    "name": "ipython",
    "version": 3
   },
   "file_extension": ".py",
   "mimetype": "text/x-python",
   "name": "python",
   "nbconvert_exporter": "python",
   "pygments_lexer": "ipython3",
   "version": "3.11.2"
  }
 },
 "nbformat": 4,
 "nbformat_minor": 5
}
