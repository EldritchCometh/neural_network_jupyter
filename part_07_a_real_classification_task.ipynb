{
 "cells": [
  {
   "cell_type": "code",
   "execution_count": null,
   "id": "eb1053b5-e5a0-4be3-9245-39a7f34ab232",
   "metadata": {},
   "outputs": [],
   "source": [
    "%%capture\n",
    "%run part_06_visualization.ipynb\n",
    "\n",
    "# uncomment subsequent if needed\n",
    "#!pip install scikit-learn\n",
    "\n",
    "from sklearn.datasets import load_digits"
   ]
  },
  {
   "cell_type": "markdown",
   "id": "eda2706b-4cb3-4a46-a63c-4fd1610ef787",
   "metadata": {},
   "source": [
    "# **Load and Prep the Data**"
   ]
  },
  {
   "cell_type": "code",
   "execution_count": null,
   "id": "7c7ff43a-e1a2-497a-b4c5-bf56a3d3c7ec",
   "metadata": {},
   "outputs": [],
   "source": [
    "digits = load_digits()\n",
    "features, labels = digits.data.tolist(), digits.target.tolist()\n",
    "targets = [[float(i == t) for i in range(10)] for t in labels]\n",
    "split_idx = int(len(features) * 0.8)\n",
    "t_features, v_features = features[:split_idx], features[split_idx:]\n",
    "t_targets, v_targets = targets[:split_idx], targets[split_idx:]\n",
    "t_labels, v_labels =  labels[:split_idx], labels[split_idx:]"
   ]
  },
  {
   "cell_type": "markdown",
   "id": "fa66e6df-2e7d-4ca4-a3a9-8120f60378b4",
   "metadata": {},
   "source": [
    "# **Explore and Visaulize the Data**"
   ]
  },
  {
   "cell_type": "code",
   "execution_count": null,
   "id": "ada4d855-8ac5-4d5a-b291-ae11d5757ba5",
   "metadata": {},
   "outputs": [],
   "source": [
    "def display_digit(sample):\n",
    "    image_format = [sample[i:i+8] for i in range(0, len(sample), 8)]\n",
    "    plt.figure(figsize=(3, 3))\n",
    "    plt.imshow(image_format, cmap=plt.cm.gray_r, interpolation='nearest')\n",
    "    plt.axis('off')\n",
    "    plt.show()"
   ]
  },
  {
   "cell_type": "code",
   "execution_count": null,
   "id": "bcf22bc9-ac22-4593-aafd-ccd2e030cd81",
   "metadata": {},
   "outputs": [],
   "source": [
    "i = random.randint(0, len(features)-1)\n",
    "display_digit(features[i])\n",
    "print(f'\\nLabel: {labels[i]}')\n",
    "print(f'Target: {targets[i]}')\n",
    "print(f'Raw Feature Data:\\n{features[i]}')"
   ]
  },
  {
   "cell_type": "markdown",
   "id": "1d7bb8b2-9b5d-49ec-b2f4-32f5fa741ac5",
   "metadata": {},
   "source": [
    "# **Train and Evaluate**"
   ]
  },
  {
   "cell_type": "code",
   "execution_count": null,
   "id": "49f68352-d48e-4c4a-a1b4-258c5ee7ae9c",
   "metadata": {},
   "outputs": [],
   "source": [
    "shape = [64, 10, 10, 10, 10]\n",
    "neural_network = NeuralNetwork(shape)\n",
    "t_data = [[tf, tt] for tf, tt in zip(t_features, t_targets)]\n",
    "v_data = [[vf, vt] for vf, vt in zip(v_features, v_targets)]"
   ]
  },
  {
   "cell_type": "code",
   "execution_count": null,
   "id": "34e9c555-9338-4238-b904-1a121af6d608",
   "metadata": {},
   "outputs": [],
   "source": [
    "print(f'MSE before training: {neural_network.evaluate_error(v_data)}')\n",
    "print(f'Accuracy before training: {neural_network.evaluate_accuracy(v_data)}')\n",
    "neural_network.train(t_data, 100, 0.01)\n",
    "print(f'MSE after training: {neural_network.evaluate_error(v_data)}')\n",
    "print(f'Accuracy after training: {neural_network.evaluate_accuracy(v_data)}')"
   ]
  },
  {
   "cell_type": "code",
   "execution_count": null,
   "id": "6071f9de-3cff-4eb8-afa0-3703a9d0d572",
   "metadata": {},
   "outputs": [],
   "source": [
    "i = random.randint(0, len(v_features)-1)\n",
    "output = neural_network.predict(v_features[i])\n",
    "display_digit(v_features[i])\n",
    "print(f'\\nLabel: {v_labels[i]}')\n",
    "print(f'Prediction: {output.index(max(output))}')\n",
    "print(f'Target: {v_targets[i]}')\n",
    "print(f'Output: {[round(x, 1) for x in output]}')"
   ]
  }
 ],
 "metadata": {
  "kernelspec": {
   "display_name": "Python 3 (ipykernel)",
   "language": "python",
   "name": "python3"
  },
  "language_info": {
   "codemirror_mode": {
    "name": "ipython",
    "version": 3
   },
   "file_extension": ".py",
   "mimetype": "text/x-python",
   "name": "python",
   "nbconvert_exporter": "python",
   "pygments_lexer": "ipython3",
   "version": "3.11.2"
  }
 },
 "nbformat": 4,
 "nbformat_minor": 5
}
