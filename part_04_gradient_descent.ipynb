{
 "cells": [
  {
   "cell_type": "code",
   "execution_count": 41,
   "id": "f4ae353f-b71a-4413-8227-adc1c36eaec4",
   "metadata": {},
   "outputs": [],
   "source": [
    "%%capture\n",
    "%run part_03_backpropagating_error_signal.ipynb"
   ]
  },
  {
   "cell_type": "markdown",
   "id": "2f06a960-1329-40ed-9a41-d19385a12388",
   "metadata": {},
   "source": [
    "# **Gradient Descent**"
   ]
  },
  {
   "cell_type": "code",
   "execution_count": 42,
   "id": "7075fe87-f143-40ff-8ef4-ec7c357e5f4d",
   "metadata": {},
   "outputs": [],
   "source": [
    "def gradient_descent(model, learning_rate):\n",
    "    for layer in model:\n",
    "        for node in layer:\n",
    "            node.descend_local_gradient(learning_rate)"
   ]
  },
  {
   "cell_type": "code",
   "execution_count": 43,
   "id": "771a8731-7c8f-4530-abc6-0e5d6a1054ce",
   "metadata": {},
   "outputs": [],
   "source": [
    "@staticmethod\n",
    "def descend_local_gradient_input_node(_):\n",
    "    None\n",
    "\n",
    "InputNode.descend_local_gradient = descend_local_gradient_input_node"
   ]
  },
  {
   "cell_type": "code",
   "execution_count": 44,
   "id": "d68a1625-d9aa-411d-9dc3-d9ea3684711b",
   "metadata": {},
   "outputs": [],
   "source": [
    "def descend_local_gradient_connection(self, learning_rate):\n",
    "    self.weight -= learning_rate * self.forward.error_signal * self.input\n",
    "\n",
    "Connection.descend_local_gradient = descend_local_gradient_connection"
   ]
  },
  {
   "cell_type": "code",
   "execution_count": 45,
   "id": "c11a83cd-5e57-4d8c-aa35-93d8b905d8f5",
   "metadata": {},
   "outputs": [],
   "source": [
    "def descend_local_gradient_neuron(self, learning_rate):\n",
    "    self.bias -= learning_rate * self.forward.error_signal\n",
    "\n",
    "Neuron.descend_local_gradient = descend_local_gradient_neuron"
   ]
  },
  {
   "cell_type": "code",
   "execution_count": 46,
   "id": "2e955656-16d8-4901-a199-030940ef5394",
   "metadata": {},
   "outputs": [],
   "source": [
    "@staticmethod\n",
    "def descend_local_gradient_nonlinear_node(_):\n",
    "    None\n",
    "\n",
    "NonlinearNode.descend_local_gradient = descend_local_gradient_nonlinear_node"
   ]
  },
  {
   "cell_type": "code",
   "execution_count": 47,
   "id": "53cee551-409d-48df-b4f6-bd5ed0d0eb81",
   "metadata": {},
   "outputs": [],
   "source": [
    "@staticmethod\n",
    "def descend_local_gradient_output_node(_):\n",
    "    None\n",
    "\n",
    "OutputNode.descend_local_gradient = descend_local_gradient_output_node"
   ]
  },
  {
   "cell_type": "markdown",
   "id": "f07bd806-a143-4f39-95bc-aadab0134c00",
   "metadata": {},
   "source": [
    "# **Testing**"
   ]
  },
  {
   "cell_type": "code",
   "execution_count": 48,
   "id": "6b4b0d90-e6b4-4ecb-b330-7d5c697e247c",
   "metadata": {},
   "outputs": [
    {
     "name": "stdout",
     "output_type": "stream",
     "text": [
      "Forward error of first connection: -0.10251611321463411\n",
      "Weight of first connection: -0.033776528761801095\n",
      "Forward error of first connection: -0.41996997635706823\n",
      "Weight of first connection: -0.02957682899823041\n"
     ]
    }
   ],
   "source": [
    "target = [3.0, 2.0, 1.0]\n",
    "learning_rate = 0.01\n",
    "print(f'Forward error of first connection: {model[1][0].forward.error_signal}')\n",
    "print(f'Weight of first connection: {model[1][0].weight}')\n",
    "forward(model, features)\n",
    "backpropagate_error(model, target)\n",
    "gradient_descent(model, learning_rate)\n",
    "print(f'Forward error of first connection: {model[1][0].forward.error_signal}')\n",
    "print(f'Weight of first connection: {model[1][0].weight}')"
   ]
  }
 ],
 "metadata": {
  "kernelspec": {
   "display_name": "Python 3 (ipykernel)",
   "language": "python",
   "name": "python3"
  },
  "language_info": {
   "codemirror_mode": {
    "name": "ipython",
    "version": 3
   },
   "file_extension": ".py",
   "mimetype": "text/x-python",
   "name": "python",
   "nbconvert_exporter": "python",
   "pygments_lexer": "ipython3",
   "version": "3.11.2"
  }
 },
 "nbformat": 4,
 "nbformat_minor": 5
}
