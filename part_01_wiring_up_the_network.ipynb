{
 "cells": [
  {
   "cell_type": "code",
   "execution_count": 19,
   "id": "30c19121-50df-49a7-b88d-3638a141d3e9",
   "metadata": {},
   "outputs": [],
   "source": [
    "import random"
   ]
  },
  {
   "cell_type": "markdown",
   "id": "a2f9e1d2-8478-4076-a15b-81d68821dddb",
   "metadata": {},
   "source": [
    "# **Input Nodes**"
   ]
  },
  {
   "cell_type": "code",
   "execution_count": 20,
   "id": "ee4046e8-5b20-4181-acaa-f172e7d61568",
   "metadata": {},
   "outputs": [],
   "source": [
    "class InputNode:\n",
    "\n",
    "    def __init__(self):\n",
    "        self.activation = 0.0\n",
    "        self.forward = []"
   ]
  },
  {
   "cell_type": "code",
   "execution_count": 21,
   "id": "4a40fa6e-bbbb-4049-a486-62c14c120143",
   "metadata": {},
   "outputs": [],
   "source": [
    "def make_input_nodes(num_of_features):\n",
    "    return [InputNode() for _ in range(num_of_features)]"
   ]
  },
  {
   "cell_type": "code",
   "execution_count": 22,
   "id": "07706f0e-f406-4396-b913-a7fd17b0a8bf",
   "metadata": {},
   "outputs": [
    {
     "name": "stdout",
     "output_type": "stream",
     "text": [
      "3\n"
     ]
    }
   ],
   "source": [
    "input_nodes = make_input_nodes(3)\n",
    "print(len(input_nodes))"
   ]
  },
  {
   "cell_type": "markdown",
   "id": "ea985fda-9bbb-4a74-8a38-35917f981e38",
   "metadata": {},
   "source": [
    "# **Connections**"
   ]
  },
  {
   "cell_type": "code",
   "execution_count": 23,
   "id": "101de318-47fb-4585-9b9b-7231658f2017",
   "metadata": {},
   "outputs": [],
   "source": [
    "class Connection:\n",
    "\n",
    "    def __init__(self):\n",
    "        self.activation = 0.0\n",
    "        self.backward = None\n",
    "        self.forward = None\n",
    "        self.weight = 0.0"
   ]
  },
  {
   "cell_type": "code",
   "execution_count": 24,
   "id": "91e3b7e5-9ccf-4948-8e23-27e33386df64",
   "metadata": {},
   "outputs": [],
   "source": [
    "def make_connections(previous_layer, width):\n",
    "    connections = []\n",
    "    for node in previous_layer:\n",
    "        node.forward = [Connection() for _ in range(width)]\n",
    "        for connection in node.forward:\n",
    "            connection.backward = node\n",
    "        connections.extend(node.forward)\n",
    "    for connection in connections:\n",
    "        connection.weight = random.uniform(-0.2, 0.2)\n",
    "    return connections"
   ]
  },
  {
   "cell_type": "code",
   "execution_count": 25,
   "id": "fa0bebbf-6f2f-453f-9ee2-1d8466d2890b",
   "metadata": {},
   "outputs": [
    {
     "name": "stdout",
     "output_type": "stream",
     "text": [
      "9\n",
      "0.11242010044297723\n",
      "<class '__main__.InputNode'>\n"
     ]
    }
   ],
   "source": [
    "connections = make_connections(input_nodes, 3)\n",
    "print(len(connections))\n",
    "print(connections[0].weight)\n",
    "print(type(connections[0].backward))"
   ]
  },
  {
   "cell_type": "markdown",
   "id": "e7907ac7-d9a6-40b8-afd9-c37600c538a1",
   "metadata": {},
   "source": [
    "# **Neurons**"
   ]
  },
  {
   "cell_type": "code",
   "execution_count": 26,
   "id": "fa01cad6-2969-419c-b623-bdd3be1dee90",
   "metadata": {},
   "outputs": [],
   "source": [
    "class Neuron:\n",
    "\n",
    "    def __init__(self):\n",
    "        self.activation = 0.0\n",
    "        self.backward = []\n",
    "        self.forward = None\n",
    "        self.bias = 0.0"
   ]
  },
  {
   "cell_type": "code",
   "execution_count": 27,
   "id": "b8625df7-218b-422c-9474-72a9c135dbac",
   "metadata": {},
   "outputs": [],
   "source": [
    "def make_neurons(previous_layer, width):\n",
    "    neurons = [Neuron() for _ in range(width)]\n",
    "    nodes = list({connection.backward for connection in previous_layer})\n",
    "    for node in nodes:\n",
    "        for connection, neuron in zip(node.forward, neurons):\n",
    "            connection.forward = neuron\n",
    "            neuron.backward.append(connection)\n",
    "    for neuron in neurons:\n",
    "        neuron.bias = 0.1\n",
    "    return neurons"
   ]
  },
  {
   "cell_type": "code",
   "execution_count": 28,
   "id": "53127a96-36b2-4d83-8a9a-995721c79f90",
   "metadata": {},
   "outputs": [
    {
     "name": "stdout",
     "output_type": "stream",
     "text": [
      "3\n",
      "0.1\n",
      "[<__main__.Connection object at 0x7a0d49b60a90>, <__main__.Connection object at 0x7a0d4049dad0>, <__main__.Connection object at 0x7a0d4047e290>]\n",
      "True\n"
     ]
    }
   ],
   "source": [
    "neurons = make_neurons(connections, 3)\n",
    "print(len(neurons))\n",
    "print(neurons[0].bias)\n",
    "print(neurons[0].backward)\n",
    "print(neurons[0].backward[0].forward == neurons[0])"
   ]
  },
  {
   "cell_type": "markdown",
   "id": "0bff3b1c-778e-4380-ba81-5a83855c4093",
   "metadata": {},
   "source": [
    "# **Nonlinear Nodes**"
   ]
  },
  {
   "cell_type": "code",
   "execution_count": 29,
   "id": "0d7261bc-7f3b-47d6-b712-de7f919f393f",
   "metadata": {},
   "outputs": [],
   "source": [
    "class NonlinearNode:\n",
    "\n",
    "    def __init__(self):\n",
    "        self.activation = 0.0\n",
    "        self.backward = None\n",
    "        self.forward = []"
   ]
  },
  {
   "cell_type": "code",
   "execution_count": 30,
   "id": "3e18c370-b0e0-4736-a03c-3866dd92c58a",
   "metadata": {},
   "outputs": [],
   "source": [
    "def make_nonlinear_nodes(previous_layer, width):\n",
    "    nonlinear_nodes = [NonlinearNode() for _ in range(width)]\n",
    "    for neuron, nonlinear_node in zip(previous_layer, nonlinear_nodes):\n",
    "        neuron.forward = nonlinear_node\n",
    "        nonlinear_node.backward = neuron\n",
    "    return nonlinear_nodes"
   ]
  },
  {
   "cell_type": "code",
   "execution_count": 31,
   "id": "8f3d162e-a0f8-48ea-90f6-832a5d24251d",
   "metadata": {},
   "outputs": [
    {
     "name": "stdout",
     "output_type": "stream",
     "text": [
      "3\n",
      "<__main__.Neuron object at 0x7a0d4047fe10>\n",
      "True\n"
     ]
    }
   ],
   "source": [
    "nonlinear_nodes = make_nonlinear_nodes(neurons, 3)\n",
    "print(len(nonlinear_nodes))\n",
    "print(nonlinear_nodes[0].backward)\n",
    "print(nonlinear_nodes[0].backward.forward == nonlinear_nodes[0])"
   ]
  },
  {
   "cell_type": "markdown",
   "id": "29c8070c-1131-42f5-8422-efb3e93eb69f",
   "metadata": {},
   "source": [
    "# **Output Nodes**"
   ]
  },
  {
   "cell_type": "code",
   "execution_count": 32,
   "id": "7b5c1867-0d73-4e89-a80b-4ecce5986210",
   "metadata": {},
   "outputs": [],
   "source": [
    "class OutputNode:\n",
    "\n",
    "    def __init__(self):\n",
    "        self.activation = 0.0\n",
    "        self.backward = None"
   ]
  },
  {
   "cell_type": "code",
   "execution_count": 33,
   "id": "2360f0e8-7a4d-48ce-b600-2e9801a2518f",
   "metadata": {},
   "outputs": [],
   "source": [
    "def make_output_nodes(previous_layer, num_of_outputs):\n",
    "    output_nodes = [OutputNode() for _ in range(num_of_outputs)]\n",
    "    for nonlinear_node, output_node in zip(previous_layer, output_nodes):\n",
    "        nonlinear_node.forward = output_node\n",
    "        output_node.backward = nonlinear_node\n",
    "    return output_nodes"
   ]
  },
  {
   "cell_type": "code",
   "execution_count": 34,
   "id": "9dbb98f3-080e-4a84-813f-f663c67fb9fa",
   "metadata": {},
   "outputs": [
    {
     "name": "stdout",
     "output_type": "stream",
     "text": [
      "3\n",
      "<__main__.NonlinearNode object at 0x7a0d4049fb90>\n",
      "True\n"
     ]
    }
   ],
   "source": [
    "output_nodes = make_output_nodes(nonlinear_nodes, 3)\n",
    "print(len(output_nodes))\n",
    "print(output_nodes[0].backward)\n",
    "print(output_nodes[0].backward.forward == output_nodes[0])"
   ]
  },
  {
   "cell_type": "markdown",
   "id": "f82e461d-584d-46a7-a4ea-6db51f14deb3",
   "metadata": {},
   "source": [
    "# **Bringing it Together**"
   ]
  },
  {
   "cell_type": "code",
   "execution_count": 35,
   "id": "8cb00d92-c300-422f-a71b-4df0e0987134",
   "metadata": {},
   "outputs": [],
   "source": [
    "def construct_model(shape):\n",
    "    layers = [make_input_nodes(shape[0])]\n",
    "    for width in shape[1:]:\n",
    "        layers.append(make_connections(layers[-1], width))\n",
    "        layers.append(make_neurons(layers[-1], width))\n",
    "        layers.append(make_nonlinear_nodes(layers[-1], width))\n",
    "    layers.append(make_output_nodes(layers[-1], shape[-1]))\n",
    "    return layers"
   ]
  },
  {
   "cell_type": "markdown",
   "id": "bfad1a58-ffa2-4c6b-8853-cd5ecea8f556",
   "metadata": {},
   "source": [
    "# **Testing**"
   ]
  },
  {
   "cell_type": "code",
   "execution_count": 36,
   "id": "031cfb71-08a0-47a6-8307-96be2cbae8ea",
   "metadata": {},
   "outputs": [
    {
     "name": "stdout",
     "output_type": "stream",
     "text": [
      "Nodes in network: [3, 9, 3, 3, 9, 3, 3, 3]\n"
     ]
    }
   ],
   "source": [
    "shape = [3, 3, 3]\n",
    "model = construct_model(shape)\n",
    "print(f'Nodes in network: {[len(layer) for layer in model]}')"
   ]
  }
 ],
 "metadata": {
  "kernelspec": {
   "display_name": "Python 3 (ipykernel)",
   "language": "python",
   "name": "python3"
  },
  "language_info": {
   "codemirror_mode": {
    "name": "ipython",
    "version": 3
   },
   "file_extension": ".py",
   "mimetype": "text/x-python",
   "name": "python",
   "nbconvert_exporter": "python",
   "pygments_lexer": "ipython3",
   "version": "3.11.2"
  }
 },
 "nbformat": 4,
 "nbformat_minor": 5
}
