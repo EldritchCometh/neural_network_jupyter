{
 "cells": [
  {
   "cell_type": "markdown",
   "id": "6110a87f-dfd3-4179-9336-fa372bec764f",
   "metadata": {},
   "source": [
    "# **Setting Up Classes**"
   ]
  },
  {
   "cell_type": "code",
   "execution_count": 18,
   "id": "75ecca0a-5f26-4ef2-8ff3-9ae8998e1a9c",
   "metadata": {},
   "outputs": [],
   "source": [
    "class NeuralNetwork: pass\n",
    "class InputNode: pass\n",
    "class Connection: pass\n",
    "class Neuron: pass \n",
    "class NonlinearNode: pass\n",
    "class OutputNode: pass"
   ]
  },
  {
   "cell_type": "code",
   "execution_count": 19,
   "id": "e5842745-9585-4ce2-9f98-58cdf4d73f1a",
   "metadata": {},
   "outputs": [],
   "source": [
    "def init_neural_network_01(self, shape):\n",
    "    self.layers = []\n",
    "    self.construct(shape)\n",
    "\n",
    "NeuralNetwork.__init__ = init_neural_network_01"
   ]
  },
  {
   "cell_type": "code",
   "execution_count": 20,
   "id": "c6ea71a0-289f-4a86-aaa8-607fa8508026",
   "metadata": {},
   "outputs": [],
   "source": [
    "def init_input_node_01(self):\n",
    "    self.forward = []\n",
    "\n",
    "InputNode.__init__ = init_input_node_01"
   ]
  },
  {
   "cell_type": "code",
   "execution_count": 21,
   "id": "b83754d7-654b-4f6a-ac4b-575bb3b94b95",
   "metadata": {},
   "outputs": [],
   "source": [
    "def init_connection_01(self):\n",
    "    self.backward = None\n",
    "    self.forward = None\n",
    "\n",
    "Connection.__init__ = init_connection_01"
   ]
  },
  {
   "cell_type": "code",
   "execution_count": 22,
   "id": "ba0cb23f-c7b1-4808-bb64-c978bb792d74",
   "metadata": {},
   "outputs": [],
   "source": [
    "def init_neuron_01(self):\n",
    "    self.backward = []\n",
    "    self.forward = None\n",
    "\n",
    "Neuron.__init__ = init_neuron_01"
   ]
  },
  {
   "cell_type": "code",
   "execution_count": 23,
   "id": "2937c06e-6a93-4948-bfa9-bcb74292db7c",
   "metadata": {},
   "outputs": [],
   "source": [
    "def init_nonlinear_node_01(self):\n",
    "    self.backward = None\n",
    "    self.forward = []\n",
    "\n",
    "NonlinearNode.__init__ = init_nonlinear_node_01"
   ]
  },
  {
   "cell_type": "code",
   "execution_count": 24,
   "id": "3c5e63d9-cdde-4bb6-9932-fd50fff511e9",
   "metadata": {},
   "outputs": [],
   "source": [
    "def init_output_node_01(self):\n",
    "    self.backward = None\n",
    "\n",
    "OutputNode.__init__ = init_output_node_01"
   ]
  },
  {
   "cell_type": "markdown",
   "id": "6e7730fd-ddf0-43be-857e-81dcdc9e4af2",
   "metadata": {},
   "source": [
    "# **Construction Methods**"
   ]
  },
  {
   "cell_type": "code",
   "execution_count": 25,
   "id": "8cb00d92-c300-422f-a71b-4df0e0987134",
   "metadata": {},
   "outputs": [],
   "source": [
    "def construct(self, shape):\n",
    "    self.append_input_nodes(shape[0])\n",
    "    for width in shape[1:]:\n",
    "        self.append_connections(width)\n",
    "        self.append_neurons(width)\n",
    "        self.append_nonlinear_nodes(width)\n",
    "    self.append_output_nodes(shape[-1])\n",
    "\n",
    "NeuralNetwork.construct = construct"
   ]
  },
  {
   "cell_type": "code",
   "execution_count": 26,
   "id": "608fb2ca-4581-40c3-82b3-a3ebaf2ea576",
   "metadata": {},
   "outputs": [],
   "source": [
    "def append_input_nodes(self, num_of_inputs):\n",
    "    input_nodes = [InputNode() for _ in range(num_of_inputs)]\n",
    "    self.layers.append(input_nodes)\n",
    "\n",
    "NeuralNetwork.append_input_nodes = append_input_nodes"
   ]
  },
  {
   "cell_type": "code",
   "execution_count": 27,
   "id": "f68314cd-2231-4aa9-9ff9-364582ce53da",
   "metadata": {},
   "outputs": [],
   "source": [
    "def append_connections(self, width):\n",
    "    connections = []\n",
    "    for node in self.layers[-1]:\n",
    "        node.forward = [Connection() for _ in range(width)]\n",
    "        for connection in node.forward:\n",
    "            connection.backward = node\n",
    "            connections.append(connection)\n",
    "    self.layers.append(connections)\n",
    "\n",
    "NeuralNetwork.append_connections = append_connections"
   ]
  },
  {
   "cell_type": "code",
   "execution_count": 28,
   "id": "b8625df7-218b-422c-9474-72a9c135dbac",
   "metadata": {},
   "outputs": [],
   "source": [
    "def append_neurons(self, width):\n",
    "    neurons = [Neuron() for _ in range(width)]\n",
    "    for node in self.layers[-2]:\n",
    "        for connection, neuron in zip(node.forward, neurons):\n",
    "            connection.forward = neuron\n",
    "            neuron.backward.append(connection)\n",
    "    self.layers.append(neurons)\n",
    "\n",
    "NeuralNetwork.append_neurons = append_neurons"
   ]
  },
  {
   "cell_type": "code",
   "execution_count": 29,
   "id": "3e18c370-b0e0-4736-a03c-3866dd92c58a",
   "metadata": {},
   "outputs": [],
   "source": [
    "def append_nonlinear_nodes(self, width):\n",
    "    nonlinear_nodes = [NonlinearNode() for _ in range(width)]\n",
    "    for neuron, nonlinear_node in zip(self.layers[-1], nonlinear_nodes):\n",
    "        neuron.forward = nonlinear_node\n",
    "        nonlinear_node.backward = neuron\n",
    "    self.layers.append(nonlinear_nodes)\n",
    "\n",
    "NeuralNetwork.append_nonlinear_nodes = append_nonlinear_nodes"
   ]
  },
  {
   "cell_type": "code",
   "execution_count": 30,
   "id": "2360f0e8-7a4d-48ce-b600-2e9801a2518f",
   "metadata": {},
   "outputs": [],
   "source": [
    "def append_output_nodes(self, width):\n",
    "    output_nodes = [OutputNode() for _ in range(width)]\n",
    "    for nonlinear_node, output_node in zip(self.layers[-1], output_nodes):\n",
    "        nonlinear_node.forward = output_node\n",
    "        output_node.backward = nonlinear_node\n",
    "    self.layers.append(output_nodes)\n",
    "\n",
    "NeuralNetwork.append_output_nodes = append_output_nodes"
   ]
  },
  {
   "cell_type": "markdown",
   "id": "bfad1a58-ffa2-4c6b-8853-cd5ecea8f556",
   "metadata": {},
   "source": [
    "# **Testing**"
   ]
  },
  {
   "cell_type": "code",
   "execution_count": 31,
   "id": "78b1a9cf-f8ef-4e1b-94b6-3604c520d10b",
   "metadata": {},
   "outputs": [
    {
     "name": "stdout",
     "output_type": "stream",
     "text": [
      "[3, 9, 3, 3, 9, 3, 3, 3]\n"
     ]
    }
   ],
   "source": [
    "shape = [3, 3, 3]\n",
    "neural_network = NeuralNetwork(shape)\n",
    "print([len(layer) for layer in neural_network.layers])"
   ]
  }
 ],
 "metadata": {
  "kernelspec": {
   "display_name": "Python 3 (ipykernel)",
   "language": "python",
   "name": "python3"
  },
  "language_info": {
   "codemirror_mode": {
    "name": "ipython",
    "version": 3
   },
   "file_extension": ".py",
   "mimetype": "text/x-python",
   "name": "python",
   "nbconvert_exporter": "python",
   "pygments_lexer": "ipython3",
   "version": "3.11.2"
  }
 },
 "nbformat": 4,
 "nbformat_minor": 5
}
