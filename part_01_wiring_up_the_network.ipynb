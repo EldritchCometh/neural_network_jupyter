{
 "cells": [
  {
   "cell_type": "code",
   "execution_count": 1,
   "id": "30c19121-50df-49a7-b88d-3638a141d3e9",
   "metadata": {},
   "outputs": [],
   "source": [
    "import random"
   ]
  },
  {
   "cell_type": "markdown",
   "id": "6110a87f-dfd3-4179-9336-fa372bec764f",
   "metadata": {},
   "source": [
    "# **Innitializing Some Classes**"
   ]
  },
  {
   "cell_type": "code",
   "execution_count": 2,
   "id": "addb21ee-304f-4cd1-b6ff-b5f00034e98f",
   "metadata": {},
   "outputs": [],
   "source": [
    "class InputNode: pass\n",
    "class Connection: pass\n",
    "class Neuron: pass\n",
    "class NonlinearNode: pass\n",
    "class OutputNode: pass"
   ]
  },
  {
   "cell_type": "markdown",
   "id": "a2f9e1d2-8478-4076-a15b-81d68821dddb",
   "metadata": {},
   "source": [
    "# **Construction Methods**"
   ]
  },
  {
   "cell_type": "code",
   "execution_count": 3,
   "id": "8cb00d92-c300-422f-a71b-4df0e0987134",
   "metadata": {},
   "outputs": [],
   "source": [
    "def construct_model(shape):\n",
    "    layers = []\n",
    "    append_input_nodes(layers, shape[0])\n",
    "    for width in shape[1:]:\n",
    "        append_connections(layers, width)\n",
    "        append_neurons(layers, width)\n",
    "        append_nonlinear_nodes(layers, width)\n",
    "    append_output_nodes(layers, shape[-1])\n",
    "    init_paramaters(layers)\n",
    "    return layers"
   ]
  },
  {
   "cell_type": "code",
   "execution_count": 4,
   "id": "608fb2ca-4581-40c3-82b3-a3ebaf2ea576",
   "metadata": {},
   "outputs": [],
   "source": [
    "def append_input_nodes(layers, num_of_inputs):\n",
    "    input_nodes = [InputNode() for _ in range(num_of_inputs)]\n",
    "    layers.append(input_nodes)"
   ]
  },
  {
   "cell_type": "code",
   "execution_count": 5,
   "id": "f68314cd-2231-4aa9-9ff9-364582ce53da",
   "metadata": {},
   "outputs": [],
   "source": [
    "def append_connections(layers, width):\n",
    "    connections = []\n",
    "    for node in layers[-1]:\n",
    "        node.forward = [Connection() for _ in range(width)]\n",
    "        for connection in node.forward:\n",
    "            connection.backward = node\n",
    "            connections.append(connection)\n",
    "    layers.append(connections)"
   ]
  },
  {
   "cell_type": "code",
   "execution_count": 6,
   "id": "b8625df7-218b-422c-9474-72a9c135dbac",
   "metadata": {},
   "outputs": [],
   "source": [
    "def append_neurons(layers, width):\n",
    "    neurons = [Neuron() for _ in range(width)]\n",
    "    for neuron in neurons:\n",
    "        neuron.backward = []\n",
    "    for node in layers[-2]:\n",
    "        for connection, neuron in zip(node.forward, neurons):\n",
    "            connection.forward = neuron\n",
    "            neuron.backward.append(connection)\n",
    "    layers.append(neurons)"
   ]
  },
  {
   "cell_type": "code",
   "execution_count": 7,
   "id": "3e18c370-b0e0-4736-a03c-3866dd92c58a",
   "metadata": {},
   "outputs": [],
   "source": [
    "def append_nonlinear_nodes(layers, width):\n",
    "    nonlinear_nodes = [NonlinearNode() for _ in range(width)]\n",
    "    for neuron, nonlinear_node in zip(layers[-1], nonlinear_nodes):\n",
    "        neuron.forward = nonlinear_node\n",
    "        nonlinear_node.backward = neuron\n",
    "    layers.append(nonlinear_nodes)"
   ]
  },
  {
   "cell_type": "code",
   "execution_count": 8,
   "id": "2360f0e8-7a4d-48ce-b600-2e9801a2518f",
   "metadata": {},
   "outputs": [],
   "source": [
    "def append_output_nodes(layers, num_of_outputs):\n",
    "    output_nodes = [OutputNode() for _ in range(num_of_outputs)]\n",
    "    for nonlinear_node, output_node in zip(layers[-1], output_nodes):\n",
    "        nonlinear_node.forward = output_node\n",
    "        output_node.backward = nonlinear_node\n",
    "    layers.append(output_nodes)"
   ]
  },
  {
   "cell_type": "code",
   "execution_count": 9,
   "id": "de1c987c-a7cf-477e-8694-257dadd3460c",
   "metadata": {},
   "outputs": [],
   "source": [
    "def init_paramaters(model):\n",
    "    for layer in model:\n",
    "        for node in layer:\n",
    "            if isinstance(node, Connection):\n",
    "                node.weight = random.uniform(-0.2, 0.2)\n",
    "            elif isinstance(node, Neuron):\n",
    "                node.bias = 0.1"
   ]
  },
  {
   "cell_type": "markdown",
   "id": "bfad1a58-ffa2-4c6b-8853-cd5ecea8f556",
   "metadata": {},
   "source": [
    "# **Testing**"
   ]
  },
  {
   "cell_type": "code",
   "execution_count": 10,
   "id": "031cfb71-08a0-47a6-8307-96be2cbae8ea",
   "metadata": {},
   "outputs": [
    {
     "name": "stdout",
     "output_type": "stream",
     "text": [
      "Nodes in network: [3, 9, 3, 3, 9, 3, 3, 3]\n"
     ]
    }
   ],
   "source": [
    "shape = [3, 3, 3]\n",
    "model = construct_model(shape)\n",
    "print(f'Nodes in network: {[len(layer) for layer in model]}')"
   ]
  }
 ],
 "metadata": {
  "kernelspec": {
   "display_name": "Python 3 (ipykernel)",
   "language": "python",
   "name": "python3"
  },
  "language_info": {
   "codemirror_mode": {
    "name": "ipython",
    "version": 3
   },
   "file_extension": ".py",
   "mimetype": "text/x-python",
   "name": "python",
   "nbconvert_exporter": "python",
   "pygments_lexer": "ipython3",
   "version": "3.11.2"
  }
 },
 "nbformat": 4,
 "nbformat_minor": 5
}
