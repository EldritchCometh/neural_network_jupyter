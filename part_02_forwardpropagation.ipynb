{
 "cells": [
  {
   "cell_type": "code",
   "execution_count": 104,
   "id": "0d615ae9-ee0f-4009-afd7-df09e1969e72",
   "metadata": {},
   "outputs": [],
   "source": [
    "%%capture\n",
    "%run part_01_wiring_up_the_network.ipynb"
   ]
  },
  {
   "cell_type": "markdown",
   "id": "1f6f82e6-6667-4039-aed5-8aa61d65ac9d",
   "metadata": {},
   "source": [
    "# **Forwardpropagation**"
   ]
  },
  {
   "cell_type": "code",
   "execution_count": 105,
   "id": "8a2ceded-65b2-49b8-b2dd-d327b0e82f13",
   "metadata": {},
   "outputs": [],
   "source": [
    "def forward(model, features):\n",
    "    for feature, input_node in zip(features, model[0]):\n",
    "        input_node.input = feature\n",
    "    for layer in model:\n",
    "        for node in layer:\n",
    "            node.activate()\n",
    "    return [output_node.activation for output_node in model[-1]]"
   ]
  },
  {
   "cell_type": "code",
   "execution_count": 106,
   "id": "ed041663-da00-4a6f-9399-3859612b3c93",
   "metadata": {},
   "outputs": [],
   "source": [
    "def activate_input_node(self):\n",
    "    self.activation = self.input\n",
    "\n",
    "InputNode.activate = activate_input_node"
   ]
  },
  {
   "cell_type": "code",
   "execution_count": 107,
   "id": "67d1adae-71c4-465e-b3cf-ccf5d67ac58e",
   "metadata": {},
   "outputs": [],
   "source": [
    "def activate_connection(self):\n",
    "    self.input = self.backward.activation\n",
    "    self.activation = self.input * self.weight\n",
    "\n",
    "Connection.activate = activate_connection"
   ]
  },
  {
   "cell_type": "code",
   "execution_count": 108,
   "id": "b9b6eee3-5e72-4f46-a4f3-22174e797f93",
   "metadata": {},
   "outputs": [],
   "source": [
    "def activate_neuron(self):\n",
    "    self.input = sum([connection.activation for connection in self.backward])\n",
    "    self.activation = self.input + self.bias\n",
    "\n",
    "Neuron.activate = activate_neuron"
   ]
  },
  {
   "cell_type": "code",
   "execution_count": 109,
   "id": "5f6d8241-5c4e-42bd-a655-973d6e871edf",
   "metadata": {},
   "outputs": [],
   "source": [
    "def activate_nonlinear_node(self):\n",
    "    relu = lambda x: max(0.0, x)\n",
    "    activation_function = relu\n",
    "    self.input = self.backward.activation\n",
    "    self.activation = activation_function(self.input)\n",
    "\n",
    "NonlinearNode.activate = activate_nonlinear_node"
   ]
  },
  {
   "cell_type": "code",
   "execution_count": 110,
   "id": "973b345f-a5ed-4262-a806-423a90b4afaf",
   "metadata": {},
   "outputs": [],
   "source": [
    "def activate_output_node(self):\n",
    "    self.input = self.backward.activation\n",
    "    self.activation = self.input\n",
    "\n",
    "OutputNode.activate = activate_output_node"
   ]
  },
  {
   "cell_type": "markdown",
   "id": "f2e45cdc-a3ab-48de-bb69-906fd8805f6e",
   "metadata": {},
   "source": [
    "# **Testing**"
   ]
  },
  {
   "cell_type": "code",
   "execution_count": 111,
   "id": "db2cbef4-6bb2-48d2-bedc-fc78f8089afb",
   "metadata": {},
   "outputs": [
    {
     "name": "stdout",
     "output_type": "stream",
     "text": [
      "Neural_network prediction: [0.05895034545611842, 0.10658751119505043, 0.15809991753935626]\n"
     ]
    }
   ],
   "source": [
    "features = [1.0, 2.0, 3.0]\n",
    "init_paramaters(model)\n",
    "prediction = forward(model, features)\n",
    "print(f'Neural_network prediction: {prediction}')"
   ]
  }
 ],
 "metadata": {
  "kernelspec": {
   "display_name": "Python 3 (ipykernel)",
   "language": "python",
   "name": "python3"
  },
  "language_info": {
   "codemirror_mode": {
    "name": "ipython",
    "version": 3
   },
   "file_extension": ".py",
   "mimetype": "text/x-python",
   "name": "python",
   "nbconvert_exporter": "python",
   "pygments_lexer": "ipython3",
   "version": "3.11.2"
  }
 },
 "nbformat": 4,
 "nbformat_minor": 5
}
