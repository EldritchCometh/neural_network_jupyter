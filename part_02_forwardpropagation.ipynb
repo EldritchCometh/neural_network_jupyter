{
 "cells": [
  {
   "cell_type": "code",
   "execution_count": 20,
   "id": "0d615ae9-ee0f-4009-afd7-df09e1969e72",
   "metadata": {},
   "outputs": [],
   "source": [
    "%%capture\n",
    "%run part_01_wiring_up_the_network.ipynb\n",
    "import random"
   ]
  },
  {
   "cell_type": "markdown",
   "id": "1f6f82e6-6667-4039-aed5-8aa61d65ac9d",
   "metadata": {},
   "source": [
    "# **Forwardpropagation**"
   ]
  },
  {
   "cell_type": "code",
   "execution_count": 21,
   "id": "ed041663-da00-4a6f-9399-3859612b3c93",
   "metadata": {},
   "outputs": [],
   "source": [
    "def init_input_node_02(self):\n",
    "    init_input_node_01(self)\n",
    "    self.input = 0.0\n",
    "    self.activation = 0.0\n",
    "\n",
    "def activate_input_node(self):\n",
    "    self.activation = self.input\n",
    "\n",
    "InputNode.__init__ = init_input_node_02\n",
    "InputNode.activate = activate_input_node"
   ]
  },
  {
   "cell_type": "code",
   "execution_count": 41,
   "id": "67d1adae-71c4-465e-b3cf-ccf5d67ac58e",
   "metadata": {},
   "outputs": [],
   "source": [
    "def init_connection_02(self):\n",
    "    init_connection_01(self)\n",
    "    self.input = 0.0\n",
    "    self.activation = 0.0\n",
    "    self.weight = random.uniform(-0.2, 0.2)\n",
    "\n",
    "def activate_connection(self):\n",
    "    self.input = self.backward.activation\n",
    "    self.activation = self.input * self.weight\n",
    "\n",
    "Connection.__init__ = init_connection_02\n",
    "Connection.activate = activate_connection"
   ]
  },
  {
   "cell_type": "code",
   "execution_count": 42,
   "id": "b9b6eee3-5e72-4f46-a4f3-22174e797f93",
   "metadata": {},
   "outputs": [],
   "source": [
    "def init_neuron_02(self):\n",
    "    init_neuron_01(self)\n",
    "    self.input = 0.0\n",
    "    self.activation = 0.0\n",
    "    self.bias = 0.1\n",
    "\n",
    "def activate_neuron(self):\n",
    "    self.input = sum([connection.activation for connection in self.backward])\n",
    "    self.activation = self.input + self.bias\n",
    "\n",
    "Neuron.__init__ = init_neuron_02\n",
    "Neuron.activate = activate_neuron"
   ]
  },
  {
   "cell_type": "code",
   "execution_count": 24,
   "id": "5f6d8241-5c4e-42bd-a655-973d6e871edf",
   "metadata": {},
   "outputs": [],
   "source": [
    "def init_nonlinear_node_02(self):\n",
    "    init_nonlinear_node_01(self)\n",
    "    self.input = 0.0\n",
    "    self.activation = 0.0\n",
    "\n",
    "@staticmethod\n",
    "def relu(x):\n",
    "    return max(0.0, x)\n",
    "\n",
    "def activate_nonlinear_node(self):\n",
    "    self.input = self.backward.activation\n",
    "    self.activation = self.activation_function(self.input)\n",
    "\n",
    "NonlinearNode.__init__ = init_nonlinear_node_02\n",
    "NonlinearNode.activation_function = relu\n",
    "NonlinearNode.activate = activate_nonlinear_node"
   ]
  },
  {
   "cell_type": "code",
   "execution_count": 25,
   "id": "973b345f-a5ed-4262-a806-423a90b4afaf",
   "metadata": {},
   "outputs": [],
   "source": [
    "def init_output_node_02(self):\n",
    "    init_output_node_01(self)\n",
    "    self.input = 0.0\n",
    "    self.activation = 0.0\n",
    "\n",
    "def activate_output_node(self):\n",
    "    self.input = self.backward.activation\n",
    "    self.activation = self.input\n",
    "\n",
    "OutputNode.__init__ = init_output_node_02\n",
    "OutputNode.activate = activate_output_node"
   ]
  },
  {
   "cell_type": "code",
   "execution_count": 43,
   "id": "613b4dae-f471-4e73-948b-94a650f5e9aa",
   "metadata": {},
   "outputs": [],
   "source": [
    "def forward(self, features):\n",
    "    for feature, input_node in zip(features, self.layers[0]):\n",
    "        input_node.input = feature\n",
    "    for layer in self.layers:\n",
    "        for node in layer:\n",
    "            node.activate()\n",
    "\n",
    "def predict(self, features):\n",
    "    self.forward(features)\n",
    "    return [output_node.activation for output_node in self.layers[-1]]\n",
    "\n",
    "NeuralNetwork.forward = forward\n",
    "NeuralNetwork.predict = predict"
   ]
  },
  {
   "cell_type": "markdown",
   "id": "f2e45cdc-a3ab-48de-bb69-906fd8805f6e",
   "metadata": {},
   "source": [
    "# **Testing**"
   ]
  },
  {
   "cell_type": "code",
   "execution_count": 27,
   "id": "db2cbef4-6bb2-48d2-bedc-fc78f8089afb",
   "metadata": {},
   "outputs": [
    {
     "name": "stdout",
     "output_type": "stream",
     "text": [
      "[0.0, 0.0, 0.0]\n"
     ]
    }
   ],
   "source": [
    "shape = [3, 3, 3]\n",
    "neural_network = NeuralNetwork(shape)\n",
    "print(neural_network.predict([1,2,3]))"
   ]
  }
 ],
 "metadata": {
  "kernelspec": {
   "display_name": "Python 3 (ipykernel)",
   "language": "python",
   "name": "python3"
  },
  "language_info": {
   "codemirror_mode": {
    "name": "ipython",
    "version": 3
   },
   "file_extension": ".py",
   "mimetype": "text/x-python",
   "name": "python",
   "nbconvert_exporter": "python",
   "pygments_lexer": "ipython3",
   "version": "3.11.2"
  }
 },
 "nbformat": 4,
 "nbformat_minor": 5
}
