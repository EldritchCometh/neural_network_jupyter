{
 "cells": [
  {
   "cell_type": "code",
   "execution_count": 10,
   "id": "123e7a46-0176-4d26-b0e7-1bd2beaac778",
   "metadata": {},
   "outputs": [],
   "source": [
    "%%capture\n",
    "%run part_02_forwardpropagation.ipynb"
   ]
  },
  {
   "cell_type": "markdown",
   "id": "9cf10e96-7958-4410-82e6-24b1cf0ce8c5",
   "metadata": {},
   "source": [
    "# **Backpropagate Error Signal**"
   ]
  },
  {
   "cell_type": "code",
   "execution_count": 11,
   "id": "c10e95bb-3ad3-4dac-866d-2e83992898da",
   "metadata": {},
   "outputs": [],
   "source": [
    "def backpropagate_error(self, target):\n",
    "    for output_node, target_value in zip(self.layers[-1], target):\n",
    "        output_node.target_value = target_value\n",
    "    for layer in reversed(self.layers):\n",
    "        for node in layer:\n",
    "            node.calculate_error_signal()\n",
    "\n",
    "NeuralNetwork.backpropagate_error = backpropagate_error"
   ]
  },
  {
   "cell_type": "code",
   "execution_count": 12,
   "id": "cdd1f34b-2656-4f84-970b-879fd7234be3",
   "metadata": {},
   "outputs": [],
   "source": [
    "def init_output_node_03(self):\n",
    "    init_output_node_02(self)\n",
    "    self.target_value = 0.0\n",
    "    self.error_signal = 0.0\n",
    "\n",
    "def calculate_error_signal_output_node(self):\n",
    "    self.error_signal = self.activation - self.target_value\n",
    "\n",
    "OutputNode.__init__ = init_output_node_03\n",
    "OutputNode.calculate_error_signal = calculate_error_signal_output_node"
   ]
  },
  {
   "cell_type": "code",
   "execution_count": 13,
   "id": "797626fa-6664-488c-b39a-d3082cc0339a",
   "metadata": {},
   "outputs": [],
   "source": [
    "def init_nonlinear_node_03(self):\n",
    "    init_nonlinear_node_02(self)\n",
    "    self.error_signal = 0.0\n",
    "\n",
    "@staticmethod\n",
    "def relu_prime(x):\n",
    "    return 1 if x > 0 else 0\n",
    "\n",
    "def calculate_error_signal_nonlinear_node(self):\n",
    "    if isinstance(self.forward, OutputNode):\n",
    "        forward_error = self.forward.error_signal    \n",
    "    else:\n",
    "        forward_error = sum([conn.error_signal for conn in self.forward])\n",
    "    self.error_signal = forward_error * self.activation_prime(self.input)\n",
    "\n",
    "NonlinearNode.__init__ = init_nonlinear_node_03\n",
    "NonlinearNode.activation_prime = relu_prime\n",
    "NonlinearNode.calculate_error_signal = calculate_error_signal_nonlinear_node"
   ]
  },
  {
   "cell_type": "code",
   "execution_count": 14,
   "id": "142289b1-5f34-482e-b28d-365a7670c3e2",
   "metadata": {},
   "outputs": [],
   "source": [
    "def init_neuron_03(self):\n",
    "    init_neuron_02(self)\n",
    "    self.error_signal = 0.0\n",
    "\n",
    "def calculate_error_signal_neuron(self):\n",
    "    self.error_signal = self.forward.error_signal\n",
    "\n",
    "Neuron.__init__ = init_neuron_03\n",
    "Neuron.calculate_error_signal = calculate_error_signal_neuron"
   ]
  },
  {
   "cell_type": "code",
   "execution_count": 15,
   "id": "ac4dd096-283f-4109-a8a2-0e281947c94a",
   "metadata": {},
   "outputs": [],
   "source": [
    "def init_connection_03(self):\n",
    "    init_connection_02(self)\n",
    "    self.error_signal = 0.0\n",
    "\n",
    "def calculate_error_signal_connection(self):\n",
    "    self.error_signal = self.forward.error_signal * self.weight\n",
    "\n",
    "Connection.__init__ = init_connection_03\n",
    "Connection.calculate_error_signal = calculate_error_signal_connection"
   ]
  },
  {
   "cell_type": "code",
   "execution_count": 16,
   "id": "b8cfb98c-3a94-4c36-8030-f73dd6d9552b",
   "metadata": {},
   "outputs": [],
   "source": [
    "def init_input_node_03(self):\n",
    "    init_input_node_02(self)\n",
    "\n",
    "@staticmethod\n",
    "def calculate_error_signal_input_node():\n",
    "    None\n",
    "\n",
    "InputNode.__init__ = init_input_node_03\n",
    "InputNode.calculate_error_signal = calculate_error_signal_input_node"
   ]
  },
  {
   "cell_type": "markdown",
   "id": "eb03de43-5e03-4f9d-bd73-7fe92b47e042",
   "metadata": {},
   "source": [
    "# **Testing**"
   ]
  },
  {
   "cell_type": "code",
   "execution_count": 24,
   "id": "88ecb2de-4ead-4d9f-bb6b-3b90c3f83455",
   "metadata": {},
   "outputs": [
    {
     "name": "stdout",
     "output_type": "stream",
     "text": [
      "Error signal at first connection: 0.0\n",
      "Error signal after backpropagate_error: 0.1091461563883409\n"
     ]
    }
   ],
   "source": [
    "shape = [3, 3, 3]\n",
    "neural_network = NeuralNetwork(shape)\n",
    "neural_network.forward([1,2,3])\n",
    "error_signal = neural_network.layers[1][0].error_signal\n",
    "print(f'Error signal at first connection: {error_signal}')\n",
    "neural_network.backpropagate_error([3,2,1])\n",
    "error_signal = neural_network.layers[1][0].error_signal\n",
    "print(f'Error signal after backpropagate_error: {error_signal}')"
   ]
  }
 ],
 "metadata": {
  "kernelspec": {
   "display_name": "Python 3 (ipykernel)",
   "language": "python",
   "name": "python3"
  },
  "language_info": {
   "codemirror_mode": {
    "name": "ipython",
    "version": 3
   },
   "file_extension": ".py",
   "mimetype": "text/x-python",
   "name": "python",
   "nbconvert_exporter": "python",
   "pygments_lexer": "ipython3",
   "version": "3.11.2"
  }
 },
 "nbformat": 4,
 "nbformat_minor": 5
}
