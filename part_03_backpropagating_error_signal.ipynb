{
 "cells": [
  {
   "cell_type": "code",
   "execution_count": 65,
   "id": "123e7a46-0176-4d26-b0e7-1bd2beaac778",
   "metadata": {},
   "outputs": [],
   "source": [
    "%%capture\n",
    "%run part_02_forwardpropagation.ipynb"
   ]
  },
  {
   "cell_type": "markdown",
   "id": "9cf10e96-7958-4410-82e6-24b1cf0ce8c5",
   "metadata": {},
   "source": [
    "# **Backpropagate Error Signal**"
   ]
  },
  {
   "cell_type": "code",
   "execution_count": 66,
   "id": "c10e95bb-3ad3-4dac-866d-2e83992898da",
   "metadata": {},
   "outputs": [],
   "source": [
    "def backpropagate_error(model, target):\n",
    "    for output_node, target_value in zip(model[-1], target):\n",
    "        output_node.target_value = target_value\n",
    "    for layer in reversed(model):\n",
    "        for node in layer:\n",
    "            node.calculate_error_signal()"
   ]
  },
  {
   "cell_type": "code",
   "execution_count": 67,
   "id": "cdd1f34b-2656-4f84-970b-879fd7234be3",
   "metadata": {},
   "outputs": [],
   "source": [
    "def calculate_error_signal_output_node(self):\n",
    "    self.error_signal = self.activation - self.target_value\n",
    "\n",
    "OutputNode.calculate_error_signal = calculate_error_signal_output_node"
   ]
  },
  {
   "cell_type": "code",
   "execution_count": 68,
   "id": "797626fa-6664-488c-b39a-d3082cc0339a",
   "metadata": {},
   "outputs": [],
   "source": [
    "def calculate_error_signal_nonlinear_node(self):\n",
    "    relu_prime = lambda x: 1 if x > 0 else 0\n",
    "    activation_function_prime = relu_prime\n",
    "    if isinstance(self.forward, OutputNode):\n",
    "        forward_error = self.forward.error_signal    \n",
    "    else:\n",
    "        forward_error = sum([conn.error_signal for conn in self.forward])\n",
    "    self.error_signal = forward_error * activation_function_prime(self.input)\n",
    "\n",
    "NonlinearNode.calculate_error_signal = calculate_error_signal_nonlinear_node"
   ]
  },
  {
   "cell_type": "code",
   "execution_count": 69,
   "id": "142289b1-5f34-482e-b28d-365a7670c3e2",
   "metadata": {},
   "outputs": [],
   "source": [
    "def calculate_error_signal_neuron(self):\n",
    "    self.error_signal = self.forward.error_signal\n",
    "\n",
    "Neuron.calculate_error_signal = calculate_error_signal_neuron"
   ]
  },
  {
   "cell_type": "code",
   "execution_count": 70,
   "id": "ac4dd096-283f-4109-a8a2-0e281947c94a",
   "metadata": {},
   "outputs": [],
   "source": [
    "def calculate_error_signal_connection(self):\n",
    "    self.error_signal = self.forward.error_signal * self.weight\n",
    "\n",
    "Connection.calculate_error_signal = calculate_error_signal_connection"
   ]
  },
  {
   "cell_type": "code",
   "execution_count": 71,
   "id": "b8cfb98c-3a94-4c36-8030-f73dd6d9552b",
   "metadata": {},
   "outputs": [],
   "source": [
    "@staticmethod\n",
    "def calculate_error_signal_input_node():\n",
    "    None\n",
    "\n",
    "InputNode.calculate_error_signal = calculate_error_signal_input_node"
   ]
  },
  {
   "cell_type": "markdown",
   "id": "eb03de43-5e03-4f9d-bd73-7fe92b47e042",
   "metadata": {},
   "source": [
    "# **Testing**"
   ]
  },
  {
   "cell_type": "code",
   "execution_count": 72,
   "id": "88ecb2de-4ead-4d9f-bb6b-3b90c3f83455",
   "metadata": {},
   "outputs": [
    {
     "name": "stdout",
     "output_type": "stream",
     "text": [
      "Error signal at first connection: -0.05710303435776185\n"
     ]
    }
   ],
   "source": [
    "backpropagate_error(model, features)\n",
    "print(f'Error signal at first connection: {model[1][0].error_signal}')"
   ]
  }
 ],
 "metadata": {
  "kernelspec": {
   "display_name": "Python 3 (ipykernel)",
   "language": "python",
   "name": "python3"
  },
  "language_info": {
   "codemirror_mode": {
    "name": "ipython",
    "version": 3
   },
   "file_extension": ".py",
   "mimetype": "text/x-python",
   "name": "python",
   "nbconvert_exporter": "python",
   "pygments_lexer": "ipython3",
   "version": "3.11.2"
  }
 },
 "nbformat": 4,
 "nbformat_minor": 5
}
