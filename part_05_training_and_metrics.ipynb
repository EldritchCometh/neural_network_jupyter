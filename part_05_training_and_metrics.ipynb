{
 "cells": [
  {
   "cell_type": "code",
   "execution_count": 25,
   "id": "42a7f637-067d-4f5e-8476-901e948e60d7",
   "metadata": {},
   "outputs": [],
   "source": [
    "%%capture\n",
    "%run part_04_gradient_descent.ipynb"
   ]
  },
  {
   "cell_type": "markdown",
   "id": "77fd2622-7774-4fd1-9ccb-376ab67b1a17",
   "metadata": {},
   "source": [
    "# **Training**"
   ]
  },
  {
   "cell_type": "code",
   "execution_count": 26,
   "id": "2b3e42db-e79d-46d1-a6f4-388b0017e14e",
   "metadata": {},
   "outputs": [],
   "source": [
    "def train_model(model, data, epochs, learning_rate):\n",
    "    for i in range(epochs):\n",
    "        training_progress_bar(i, epochs)\n",
    "        random.shuffle(data)\n",
    "        for features, target in data:\n",
    "            forward(model, features)\n",
    "            backpropagate_error(model, target)\n",
    "            gradient_descent(model, learning_rate)"
   ]
  },
  {
   "cell_type": "code",
   "execution_count": 27,
   "id": "c109b404-1d4d-48b5-aaff-80990f055405",
   "metadata": {},
   "outputs": [],
   "source": [
    "def training_progress_bar(i, epochs):\n",
    "    progress = ((i+1) / epochs) * 100\n",
    "    if (i+1) % max(1, epochs // 50) == 0 or (i+1) == epochs:\n",
    "        completed = int(progress // 2)\n",
    "        remaining = 50 - completed\n",
    "        bar = \"█\" * completed + \"-\" * remaining \n",
    "        print(f\"\\rProgress: [{bar}] {progress:.0f}%\", end=\"\")\n",
    "    if (i+1) == epochs:\n",
    "        print()"
   ]
  },
  {
   "cell_type": "markdown",
   "id": "9969423c-a36d-4ebf-98cb-c28462109d73",
   "metadata": {},
   "source": [
    "# **Measuring Correctness**"
   ]
  },
  {
   "cell_type": "code",
   "execution_count": 28,
   "id": "7becd445-5f29-4b1a-a834-272ef0c260f9",
   "metadata": {},
   "outputs": [],
   "source": [
    "def evaluate_accuracy(model, data):\n",
    "    total = 0.0\n",
    "    for features, target in data:\n",
    "        total += is_correct(model, features, target)\n",
    "    return total / len(data)"
   ]
  },
  {
   "cell_type": "code",
   "execution_count": 29,
   "id": "10b5012e-f03c-48ad-a291-f8dbf231275d",
   "metadata": {},
   "outputs": [],
   "source": [
    "def is_correct(model, features, target):\n",
    "    target = target.index(max(target))\n",
    "    prediction = forward(model, features)\n",
    "    return target == prediction.index(max(prediction))"
   ]
  },
  {
   "cell_type": "markdown",
   "id": "fce19386-3412-4514-9ad6-0cff7db5dd9f",
   "metadata": {},
   "source": [
    "# **Measuring Error**"
   ]
  },
  {
   "cell_type": "code",
   "execution_count": 30,
   "id": "35773bdb-b340-49b3-b665-939028b57365",
   "metadata": {},
   "outputs": [],
   "source": [
    "def evaluate_error(model, data):\n",
    "    total = 0.0\n",
    "    for features, target in data:\n",
    "        total += mean_squared_error(model, features, target)\n",
    "    return total / len(data)"
   ]
  },
  {
   "cell_type": "code",
   "execution_count": 31,
   "id": "493d4b9b-5324-4e65-a31e-ffbe7586eb76",
   "metadata": {},
   "outputs": [],
   "source": [
    "def mean_squared_error(model, features, target):\n",
    "    prediction = forward(model, features)\n",
    "    squared_errors = [(t - p) ** 2 for t, p in zip(target, prediction)]\n",
    "    return sum(squared_errors) / len(target)"
   ]
  },
  {
   "cell_type": "markdown",
   "id": "a52b733b-5a9d-4dce-8172-f94976c2e6d5",
   "metadata": {},
   "source": [
    "# **Testing**"
   ]
  },
  {
   "cell_type": "code",
   "execution_count": 32,
   "id": "8e1de2bd-ac68-408a-92c2-8d497643480e",
   "metadata": {},
   "outputs": [
    {
     "name": "stdout",
     "output_type": "stream",
     "text": [
      "MSE before training: 4.05600725475985\n",
      "Accuracy before training: 0.0\n",
      "Progress: [██████████████████████████████████████████████████] 100%\n",
      "MSE after training: 0.5261403238390695\n",
      "Accuracy after training: 1.0\n"
     ]
    }
   ],
   "source": [
    "data = [[features, target]]\n",
    "print(f'MSE before training: {evaluate_error(model, data)}')\n",
    "print(f'Accuracy before training: {evaluate_accuracy(model, data)}')\n",
    "train_model(model, data, 20, 0.1)\n",
    "print(f'MSE after training: {evaluate_error(model, data)}')\n",
    "print(f'Accuracy after training: {evaluate_accuracy(model, data)}')"
   ]
  }
 ],
 "metadata": {
  "kernelspec": {
   "display_name": "Python 3 (ipykernel)",
   "language": "python",
   "name": "python3"
  },
  "language_info": {
   "codemirror_mode": {
    "name": "ipython",
    "version": 3
   },
   "file_extension": ".py",
   "mimetype": "text/x-python",
   "name": "python",
   "nbconvert_exporter": "python",
   "pygments_lexer": "ipython3",
   "version": "3.11.2"
  }
 },
 "nbformat": 4,
 "nbformat_minor": 5
}
