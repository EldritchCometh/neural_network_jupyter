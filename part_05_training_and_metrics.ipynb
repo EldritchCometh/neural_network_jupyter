{
 "cells": [
  {
   "cell_type": "code",
   "execution_count": 1,
   "id": "42a7f637-067d-4f5e-8476-901e948e60d7",
   "metadata": {},
   "outputs": [],
   "source": [
    "%%capture\n",
    "%run part_04_gradient_descent.ipynb"
   ]
  },
  {
   "cell_type": "markdown",
   "id": "77fd2622-7774-4fd1-9ccb-376ab67b1a17",
   "metadata": {},
   "source": [
    "# **Training**"
   ]
  },
  {
   "cell_type": "code",
   "execution_count": 2,
   "id": "33ae5d99-ffba-4f4c-bbfe-d11b144a11d9",
   "metadata": {},
   "outputs": [],
   "source": [
    "def train_neural_network(self, data, epochs, learning_rate):\n",
    "    for i in range(epochs):\n",
    "        self.training_progress_bar(i, epochs)\n",
    "        random.shuffle(data)\n",
    "        for features, targets in data:\n",
    "            self.forward(features)\n",
    "            self.backpropagate_error(targets)\n",
    "            self.gradient_descent(learning_rate)\n",
    "\n",
    "@staticmethod\n",
    "def training_progress_bar(i, epochs):\n",
    "    progress = ((i+1) / epochs) * 100\n",
    "    if (i+1) % max(1, epochs // 50) == 0 or (i+1) == epochs:\n",
    "        completed = int(progress // 2)\n",
    "        remaining = 50 - completed\n",
    "        bar = \"█\" * completed + \"-\" * remaining \n",
    "        print(f\"\\rProgress: [{bar}] {progress:.0f}%\", end=\"\")\n",
    "    if (i+1) == epochs:\n",
    "        print()\n",
    "\n",
    "NeuralNetwork.train = train_neural_network\n",
    "NeuralNetwork.training_progress_bar = training_progress_bar"
   ]
  },
  {
   "cell_type": "markdown",
   "id": "9969423c-a36d-4ebf-98cb-c28462109d73",
   "metadata": {},
   "source": [
    "# **Measuring Correctness**"
   ]
  },
  {
   "cell_type": "code",
   "execution_count": 3,
   "id": "1ce3cb91-4e72-4dad-896b-6f9b15cd876f",
   "metadata": {},
   "outputs": [],
   "source": [
    "def is_correct(self, features, target):\n",
    "    if isinstance(target, list):\n",
    "        target = target.index(max(target))\n",
    "    prediction = self.predict(features)\n",
    "    return target == prediction.index(max(prediction))\n",
    "\n",
    "def evaluate_accuracy(self, data):\n",
    "    total = 0.0\n",
    "    for features, target in data:\n",
    "        total += self.is_correct(features, target)\n",
    "    return total / len(data)\n",
    "\n",
    "NeuralNetwork.is_correct = is_correct\n",
    "NeuralNetwork.evaluate_accuracy = evaluate_accuracy"
   ]
  },
  {
   "cell_type": "markdown",
   "id": "fce19386-3412-4514-9ad6-0cff7db5dd9f",
   "metadata": {},
   "source": [
    "# **Measuring Error**"
   ]
  },
  {
   "cell_type": "code",
   "execution_count": 4,
   "id": "e4f20657-8694-4a0a-9838-6b6303d87b99",
   "metadata": {},
   "outputs": [],
   "source": [
    "def mean_squared_error(self, features, target):\n",
    "    if not isinstance(target, list):\n",
    "        target = [float(i == target) for i in range(10)]\n",
    "    prediction = self.predict(features)\n",
    "    squared_errors = [(t - p) ** 2 for t, p in zip(target, prediction)]\n",
    "    return sum(squared_errors) / len(target)\n",
    "\n",
    "def evaluate_error(self, data):\n",
    "    total = 0.0\n",
    "    for features, target in data:\n",
    "        total += self.mean_squared_error(features, target)\n",
    "    return total / len(data)\n",
    "\n",
    "NeuralNetwork.mean_squared_error = mean_squared_error\n",
    "NeuralNetwork.evaluate_error = evaluate_error"
   ]
  },
  {
   "cell_type": "markdown",
   "id": "a52b733b-5a9d-4dce-8172-f94976c2e6d5",
   "metadata": {},
   "source": [
    "# **Testing**"
   ]
  },
  {
   "cell_type": "code",
   "execution_count": 6,
   "id": "8e1de2bd-ac68-408a-92c2-8d497643480e",
   "metadata": {},
   "outputs": [
    {
     "name": "stdout",
     "output_type": "stream",
     "text": [
      "MSE before training: 4.323333020130014\n",
      "Accuracy before training: 1.0\n",
      "Progress: [██████████████████████████████████████████████████] 100%\n",
      "MSE after training: 0.6098873443873792\n",
      "Accuracy after training: 1.0\n"
     ]
    }
   ],
   "source": [
    "data = [[[1,2,3], [3,2,1]]]\n",
    "shape = [3, 3, 3]\n",
    "neural_network = NeuralNetwork(shape)\n",
    "print(f'MSE before training: {neural_network.evaluate_error(data)}')\n",
    "print(f'Accuracy before training: {neural_network.evaluate_accuracy(data)}')\n",
    "neural_network.train(data, 20, 0.01)\n",
    "print(f'MSE after training: {neural_network.evaluate_error(data)}')\n",
    "print(f'Accuracy after training: {neural_network.evaluate_accuracy(data)}')"
   ]
  }
 ],
 "metadata": {
  "kernelspec": {
   "display_name": "Python 3 (ipykernel)",
   "language": "python",
   "name": "python3"
  },
  "language_info": {
   "codemirror_mode": {
    "name": "ipython",
    "version": 3
   },
   "file_extension": ".py",
   "mimetype": "text/x-python",
   "name": "python",
   "nbconvert_exporter": "python",
   "pygments_lexer": "ipython3",
   "version": "3.11.2"
  }
 },
 "nbformat": 4,
 "nbformat_minor": 5
}
